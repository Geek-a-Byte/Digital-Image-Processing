{
 "cells": [
  {
   "cell_type": "code",
   "execution_count": null,
   "metadata": {},
   "outputs": [],
   "source": [
    "import cv2 \n",
    "import matplotlib.pyplot as plt \n",
    "import math\n",
    "import numpy as np \n",
    "\n",
    "# Load the image\n",
    "img = cv2.imread('heist.jpg',0)\n",
    "# Find width and height of image\n",
    "row, column = img.shape\n",
    "# Create an zeros array to store the sliced image\n",
    "img1 = np.zeros((row,column),dtype = 'uint8')\n",
    " \n",
    "# Specify the min and max range\n",
    "min_range = 10\n",
    "max_range = 60\n",
    " \n",
    "# Loop over the input image and if pixel value lies in desired range set it to 255 otherwise set it to 0.\n",
    "for i in range(row):\n",
    "    for j in range(column):\n",
    "        if img[i,j]>min_range and img[i,j]<max_range:\n",
    "            img1[i,j] = 255\n",
    "        else:\n",
    "            img1[i,j] = 0\n",
    "\n",
    "#original image\n",
    "plt.imshow(img) \n",
    "plt.show()\n",
    "\n",
    "#sliced image\n",
    "plt.imshow(img1) \n",
    "plt.show() \n"
   ]
  },
  {
   "cell_type": "code",
   "execution_count": null,
   "metadata": {},
   "outputs": [],
   "source": []
  },
  {
   "cell_type": "code",
   "execution_count": null,
   "metadata": {},
   "outputs": [],
   "source": []
  }
 ],
 "metadata": {
  "kernelspec": {
   "display_name": "Python 3",
   "language": "python",
   "name": "python3"
  },
  "language_info": {
   "codemirror_mode": {
    "name": "ipython",
    "version": 3
   },
   "file_extension": ".py",
   "mimetype": "text/x-python",
   "name": "python",
   "nbconvert_exporter": "python",
   "pygments_lexer": "ipython3",
   "version": "3.6.9"
  }
 },
 "nbformat": 4,
 "nbformat_minor": 2
}
