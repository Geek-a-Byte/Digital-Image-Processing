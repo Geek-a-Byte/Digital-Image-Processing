{
 "cells": [
  {
   "cell_type": "code",
   "execution_count": 1,
   "metadata": {},
   "outputs": [
    {
     "ename": "ModuleNotFoundError",
     "evalue": "No module named 'cv2'",
     "output_type": "error",
     "traceback": [
      "\u001b[0;31m---------------------------------------------------------------------------\u001b[0m",
      "\u001b[0;31mModuleNotFoundError\u001b[0m                       Traceback (most recent call last)",
      "\u001b[0;32m<ipython-input-1-62a1efbb7c68>\u001b[0m in \u001b[0;36m<module>\u001b[0;34m\u001b[0m\n\u001b[1;32m     13\u001b[0m '''\n\u001b[1;32m     14\u001b[0m \u001b[0;34m\u001b[0m\u001b[0m\n\u001b[0;32m---> 15\u001b[0;31m \u001b[0;32mimport\u001b[0m \u001b[0mcv2\u001b[0m\u001b[0;34m\u001b[0m\u001b[0;34m\u001b[0m\u001b[0m\n\u001b[0m\u001b[1;32m     16\u001b[0m \u001b[0;32mimport\u001b[0m \u001b[0mmatplotlib\u001b[0m\u001b[0;34m.\u001b[0m\u001b[0mpyplot\u001b[0m \u001b[0;32mas\u001b[0m \u001b[0mplt\u001b[0m\u001b[0;34m\u001b[0m\u001b[0;34m\u001b[0m\u001b[0m\n\u001b[1;32m     17\u001b[0m \u001b[0;32mimport\u001b[0m \u001b[0mmath\u001b[0m\u001b[0;34m\u001b[0m\u001b[0;34m\u001b[0m\u001b[0m\n",
      "\u001b[0;31mModuleNotFoundError\u001b[0m: No module named 'cv2'"
     ]
    }
   ],
   "source": [
    "# High Pass SPatial Domain Filtering \n",
    "\n",
    "\n",
    "'''\n",
    "High Pass Filtering: It eliminates low-frequency regions \n",
    "while retaining or enhancing the high-frequency components. \n",
    "A high pass filtering mask is as shown.\n",
    "\n",
    "-1/9 -1/9 -1/9\n",
    "-1/9 8/9 -1/9\n",
    "-1/9 -1/9 -1/9\n",
    "\n",
    "'''\n",
    "\n",
    "import cv2\n",
    "import matplotlib.pyplot as plt \n",
    "import math\n",
    "import numpy as np\n",
    "\n",
    "\t\n",
    "# Read the image \n",
    "img = cv2.imread('images/board.png', 0) \n",
    "\n",
    "# Obtain number of rows and columns \n",
    "# of the image \n",
    "m, n = img.shape \n",
    "\n",
    "# Develop Averaging filter(3, 3) mask \n",
    "mask = np.ones([3, 3], dtype = int) \n",
    "mask = mask / -9\n",
    "\n",
    "# Convolve the 3X3 mask over the image \n",
    "img_new = np.zeros([m, n]) \n",
    "\n",
    "for i in range(1, m-1): \n",
    "\tfor j in range(1, n-1): \n",
    "\t\ttemp = img[i-1, j-1]*mask[0, 0]+img[i-1, j]*mask[0, 1]+img[i-1, j + 1]*mask[0, 2]+img[i, j-1]*mask[1, 0]+ img[i, j]*mask[1, 1]+img[i, j + 1]*mask[1, 2]+img[i + 1, j-1]*mask[2, 0]+img[i + 1, j]*mask[2, 1]+img[i + 1, j + 1]*mask[2, 2] \n",
    "\t\t\n",
    "\t\timg_new[i, j]= temp \n",
    "\t\t\n",
    "img_new = img_new.astype(np.uint8) \n",
    "\n",
    "\n",
    "# Display the images\n",
    "plt.imshow(img) \n",
    "plt.show()\n",
    "\n",
    "# Display the images\n",
    "plt.imshow(img_new) \n",
    "plt.show()"
   ]
  },
  {
   "cell_type": "code",
   "execution_count": null,
   "metadata": {},
   "outputs": [],
   "source": []
  }
 ],
 "metadata": {
  "kernelspec": {
   "display_name": "Python 3",
   "language": "python",
   "name": "python3"
  },
  "language_info": {
   "codemirror_mode": {
    "name": "ipython",
    "version": 3
   },
   "file_extension": ".py",
   "mimetype": "text/x-python",
   "name": "python",
   "nbconvert_exporter": "python",
   "pygments_lexer": "ipython3",
   "version": "3.8.3"
  }
 },
 "nbformat": 4,
 "nbformat_minor": 2
}
